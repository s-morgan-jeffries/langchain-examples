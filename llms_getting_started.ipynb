{
 "cells": [
  {
   "cell_type": "markdown",
   "id": "20ac6b98",
   "metadata": {},
   "source": [
    "# Getting Started\n",
    "\n",
    "This notebook goes over how to use the LLM class in LangChain.\n",
    "\n",
    "The LLM class is a class designed for interfacing with LLMs. There are lots of LLM providers (OpenAI, Cohere, Hugging Face, etc) - this class is designed to provide a standard interface for all of them. In this part of the documentation, we will focus on generic LLM functionality. For details on working with a specific LLM wrapper, please see the examples in the [How-To section](how_to_guides.rst).\n",
    "\n",
    "For this notebook, we will work with an OpenAI LLM wrapper, although the functionalities highlighted are generic for all LLM types."
   ]
  },
  {
   "cell_type": "code",
   "execution_count": 1,
   "id": "df924055",
   "metadata": {
    "tags": []
   },
   "outputs": [],
   "source": [
    "from langchain.llms import OpenAI"
   ]
  },
  {
   "cell_type": "code",
   "execution_count": 2,
   "id": "182b484c",
   "metadata": {},
   "outputs": [],
   "source": [
    "llm = OpenAI(model_name=\"text-ada-001\", n=2, best_of=2)"
   ]
  },
  {
   "cell_type": "code",
   "execution_count": 4,
   "id": "083846c1",
   "metadata": {},
   "outputs": [
    {
     "name": "stdout",
     "output_type": "stream",
     "text": [
      "Help on class OpenAI in module langchain.llms.openai:\n",
      "\n",
      "class OpenAI(BaseOpenAI)\n",
      " |  OpenAI(*, cache: Optional[bool] = None, verbose: bool = None, callback_manager: langchain.callbacks.base.BaseCallbackManager = None, client: Any = None, model_name: str = 'text-davinci-003', temperature: float = 0.7, max_tokens: int = 256, top_p: float = 1, frequency_penalty: float = 0, presence_penalty: float = 0, n: int = 1, best_of: int = 1, model_kwargs: Dict[str, Any] = None, openai_api_key: Optional[str] = None, batch_size: int = 20, request_timeout: Union[float, Tuple[float, float], NoneType] = None, logit_bias: Optional[Dict[str, float]] = None, max_retries: int = 6, streaming: bool = False) -> None\n",
      " |  \n",
      " |  Generic OpenAI class that uses model name.\n",
      " |  \n",
      " |  Method resolution order:\n",
      " |      OpenAI\n",
      " |      BaseOpenAI\n",
      " |      langchain.llms.base.BaseLLM\n",
      " |      langchain.schema.BaseLanguageModel\n",
      " |      pydantic.main.BaseModel\n",
      " |      pydantic.utils.Representation\n",
      " |      abc.ABC\n",
      " |      builtins.object\n",
      " |  \n",
      " |  Static methods defined here:\n",
      " |  \n",
      " |  __json_encoder__ = pydantic_encoder(obj: Any) -> Any\n",
      " |  \n",
      " |  ----------------------------------------------------------------------\n",
      " |  Data and other attributes defined here:\n",
      " |  \n",
      " |  __abstractmethods__ = frozenset()\n",
      " |  \n",
      " |  __annotations__ = {}\n",
      " |  \n",
      " |  __class_vars__ = set()\n",
      " |  \n",
      " |  __config__ = <class 'langchain.llms.openai.Config'>\n",
      " |  \n",
      " |  __custom_root_type__ = False\n",
      " |  \n",
      " |  __exclude_fields__ = None\n",
      " |  \n",
      " |  __fields__ = {'batch_size': ModelField(name='batch_size', type=int, re...\n",
      " |  \n",
      " |  __hash__ = None\n",
      " |  \n",
      " |  __include_fields__ = None\n",
      " |  \n",
      " |  __post_root_validators__ = [(False, <function BaseOpenAI.validate_envi...\n",
      " |  \n",
      " |  __pre_root_validators__ = [<function BaseOpenAI.build_extra>]\n",
      " |  \n",
      " |  __private_attributes__ = {}\n",
      " |  \n",
      " |  __schema_cache__ = {}\n",
      " |  \n",
      " |  __signature__ = <Signature (*, cache: Optional[bool] = None, ver...tri...\n",
      " |  \n",
      " |  __validators__ = {'callback_manager': [<pydantic.class_validators.Vali...\n",
      " |  \n",
      " |  ----------------------------------------------------------------------\n",
      " |  Methods inherited from BaseOpenAI:\n",
      " |  \n",
      " |  create_llm_result(self, choices: 'Any', prompts: 'List[str]', token_usage: 'Dict[str, int]') -> 'LLMResult'\n",
      " |      Create the LLMResult from the choices and prompts.\n",
      " |  \n",
      " |  get_num_tokens(self, text: 'str') -> 'int'\n",
      " |      Calculate num tokens with tiktoken package.\n",
      " |  \n",
      " |  get_sub_prompts(self, params: 'Dict[str, Any]', prompts: 'List[str]', stop: 'Optional[List[str]]' = None) -> 'List[List[str]]'\n",
      " |      Get the sub prompts for llm call.\n",
      " |  \n",
      " |  max_tokens_for_prompt(self, prompt: 'str') -> 'int'\n",
      " |      Calculate the maximum number of tokens possible to generate for a prompt.\n",
      " |      \n",
      " |      Args:\n",
      " |          prompt: The prompt to pass into the model.\n",
      " |      \n",
      " |      Returns:\n",
      " |          The maximum number of tokens to generate for a prompt.\n",
      " |      \n",
      " |      Example:\n",
      " |          .. code-block:: python\n",
      " |      \n",
      " |              max_tokens = openai.max_token_for_prompt(\"Tell me a joke.\")\n",
      " |  \n",
      " |  modelname_to_contextsize(self, modelname: 'str') -> 'int'\n",
      " |      Calculate the maximum number of tokens possible to generate for a model.\n",
      " |      \n",
      " |      text-davinci-003: 4,097 tokens\n",
      " |      text-curie-001: 2,048 tokens\n",
      " |      text-babbage-001: 2,048 tokens\n",
      " |      text-ada-001: 2,048 tokens\n",
      " |      code-davinci-002: 8,000 tokens\n",
      " |      code-cushman-001: 2,048 tokens\n",
      " |      \n",
      " |      Args:\n",
      " |          modelname: The modelname we want to know the context size for.\n",
      " |      \n",
      " |      Returns:\n",
      " |          The maximum context size\n",
      " |      \n",
      " |      Example:\n",
      " |          .. code-block:: python\n",
      " |      \n",
      " |              max_tokens = openai.modelname_to_contextsize(\"text-davinci-003\")\n",
      " |  \n",
      " |  prep_streaming_params(self, stop: 'Optional[List[str]]' = None) -> 'Dict[str, Any]'\n",
      " |      Prepare the params for streaming.\n",
      " |  \n",
      " |  stream(self, prompt: 'str', stop: 'Optional[List[str]]' = None) -> 'Generator'\n",
      " |      Call OpenAI with streaming flag and return the resulting generator.\n",
      " |      \n",
      " |      BETA: this is a beta feature while we figure out the right abstraction.\n",
      " |      Once that happens, this interface could change.\n",
      " |      \n",
      " |      Args:\n",
      " |          prompt: The prompts to pass into the model.\n",
      " |          stop: Optional list of stop words to use when generating.\n",
      " |      \n",
      " |      Returns:\n",
      " |          A generator representing the stream of tokens from OpenAI.\n",
      " |      \n",
      " |      Example:\n",
      " |          .. code-block:: python\n",
      " |      \n",
      " |              generator = openai.stream(\"Tell me a joke.\")\n",
      " |              for token in generator:\n",
      " |                  yield token\n",
      " |  \n",
      " |  ----------------------------------------------------------------------\n",
      " |  Class methods inherited from BaseOpenAI:\n",
      " |  \n",
      " |  build_extra(values: 'Dict[str, Any]') -> 'Dict[str, Any]' from pydantic.main.ModelMetaclass\n",
      " |      Build extra kwargs from additional params that were passed in.\n",
      " |  \n",
      " |  validate_environment(values: 'Dict') -> 'Dict' from pydantic.main.ModelMetaclass\n",
      " |      Validate that api key and python package exists in environment.\n",
      " |  \n",
      " |  ----------------------------------------------------------------------\n",
      " |  Static methods inherited from BaseOpenAI:\n",
      " |  \n",
      " |  __new__(cls, **data: 'Any') -> 'Union[OpenAIChat, BaseOpenAI]'\n",
      " |      Initialize the OpenAI object.\n",
      " |  \n",
      " |  ----------------------------------------------------------------------\n",
      " |  Data and other attributes inherited from BaseOpenAI:\n",
      " |  \n",
      " |  Config = <class 'langchain.llms.openai.BaseOpenAI.Config'>\n",
      " |      Configuration for this pydantic object.\n",
      " |  \n",
      " |  \n",
      " |  ----------------------------------------------------------------------\n",
      " |  Methods inherited from langchain.llms.base.BaseLLM:\n",
      " |  \n",
      " |  __call__(self, prompt: str, stop: Optional[List[str]] = None) -> str\n",
      " |      Check Cache and run the LLM on the given prompt and input.\n",
      " |  \n",
      " |  __str__(self) -> str\n",
      " |      Get a string representation of the object for printing.\n",
      " |  \n",
      " |  async agenerate(self, prompts: List[str], stop: Optional[List[str]] = None) -> langchain.schema.LLMResult\n",
      " |      Run the LLM on the given prompt and input.\n",
      " |  \n",
      " |  async agenerate_prompt(self, prompts: List[langchain.schema.PromptValue], stop: Optional[List[str]] = None) -> langchain.schema.LLMResult\n",
      " |      Take in a list of prompt values and return an LLMResult.\n",
      " |  \n",
      " |  dict(self, **kwargs: Any) -> Dict\n",
      " |      Return a dictionary of the LLM.\n",
      " |  \n",
      " |  generate(self, prompts: List[str], stop: Optional[List[str]] = None) -> langchain.schema.LLMResult\n",
      " |      Run the LLM on the given prompt and input.\n",
      " |  \n",
      " |  generate_prompt(self, prompts: List[langchain.schema.PromptValue], stop: Optional[List[str]] = None) -> langchain.schema.LLMResult\n",
      " |      Take in a list of prompt values and return an LLMResult.\n",
      " |  \n",
      " |  save(self, file_path: Union[pathlib.Path, str]) -> None\n",
      " |      Save the LLM.\n",
      " |      \n",
      " |      Args:\n",
      " |          file_path: Path to file to save the LLM to.\n",
      " |      \n",
      " |      Example:\n",
      " |      .. code-block:: python\n",
      " |      \n",
      " |          llm.save(file_path=\"path/llm.yaml\")\n",
      " |  \n",
      " |  ----------------------------------------------------------------------\n",
      " |  Class methods inherited from langchain.llms.base.BaseLLM:\n",
      " |  \n",
      " |  set_callback_manager(callback_manager: Optional[langchain.callbacks.base.BaseCallbackManager]) -> langchain.callbacks.base.BaseCallbackManager from pydantic.main.ModelMetaclass\n",
      " |      If callback manager is None, set it.\n",
      " |      \n",
      " |      This allows users to pass in None as callback manager, which is a nice UX.\n",
      " |  \n",
      " |  set_verbose(verbose: Optional[bool]) -> bool from pydantic.main.ModelMetaclass\n",
      " |      If verbose is None, set it.\n",
      " |      \n",
      " |      This allows users to pass in None as verbose to access the global setting.\n",
      " |  \n",
      " |  ----------------------------------------------------------------------\n",
      " |  Methods inherited from pydantic.main.BaseModel:\n",
      " |  \n",
      " |  __eq__(self, other: Any) -> bool\n",
      " |  \n",
      " |  __getstate__(self) -> 'DictAny'\n",
      " |  \n",
      " |  __init__(__pydantic_self__, **data: Any) -> None\n",
      " |      Create a new model by parsing and validating input data from keyword arguments.\n",
      " |      \n",
      " |      Raises ValidationError if the input data cannot be parsed to form a valid model.\n",
      " |  \n",
      " |  __iter__(self) -> 'TupleGenerator'\n",
      " |      so `dict(model)` works\n",
      " |  \n",
      " |  __repr_args__(self) -> 'ReprArgs'\n",
      " |  \n",
      " |  __setattr__(self, name, value)\n",
      " |  \n",
      " |  __setstate__(self, state: 'DictAny') -> None\n",
      " |  \n",
      " |  copy(self: 'Model', *, include: Union[ForwardRef('AbstractSetIntStr'), ForwardRef('MappingIntStrAny'), NoneType] = None, exclude: Union[ForwardRef('AbstractSetIntStr'), ForwardRef('MappingIntStrAny'), NoneType] = None, update: Optional[ForwardRef('DictStrAny')] = None, deep: bool = False) -> 'Model'\n",
      " |      Duplicate a model, optionally choose which fields to include, exclude and change.\n",
      " |      \n",
      " |      :param include: fields to include in new model\n",
      " |      :param exclude: fields to exclude from new model, as with values this takes precedence over include\n",
      " |      :param update: values to change/add in the new model. Note: the data is not validated before creating\n",
      " |          the new model: you should trust this data\n",
      " |      :param deep: set to `True` to make a deep copy of the model\n",
      " |      :return: new model instance\n",
      " |  \n",
      " |  json(self, *, include: Union[ForwardRef('AbstractSetIntStr'), ForwardRef('MappingIntStrAny'), NoneType] = None, exclude: Union[ForwardRef('AbstractSetIntStr'), ForwardRef('MappingIntStrAny'), NoneType] = None, by_alias: bool = False, skip_defaults: Optional[bool] = None, exclude_unset: bool = False, exclude_defaults: bool = False, exclude_none: bool = False, encoder: Optional[Callable[[Any], Any]] = None, models_as_dict: bool = True, **dumps_kwargs: Any) -> 'unicode'\n",
      " |      Generate a JSON representation of the model, `include` and `exclude` arguments as per `dict()`.\n",
      " |      \n",
      " |      `encoder` is an optional function to supply as `default` to json.dumps(), other arguments as per `json.dumps()`.\n",
      " |  \n",
      " |  ----------------------------------------------------------------------\n",
      " |  Class methods inherited from pydantic.main.BaseModel:\n",
      " |  \n",
      " |  __get_validators__() -> 'CallableGenerator' from pydantic.main.ModelMetaclass\n",
      " |  \n",
      " |  __try_update_forward_refs__(**localns: Any) -> None from pydantic.main.ModelMetaclass\n",
      " |      Same as update_forward_refs but will not raise exception\n",
      " |      when forward references are not defined.\n",
      " |  \n",
      " |  construct(_fields_set: Optional[ForwardRef('SetStr')] = None, **values: Any) -> 'Model' from pydantic.main.ModelMetaclass\n",
      " |      Creates a new model setting __dict__ and __fields_set__ from trusted or pre-validated data.\n",
      " |      Default values are respected, but no other validation is performed.\n",
      " |      Behaves as if `Config.extra = 'allow'` was set since it adds all passed values\n",
      " |  \n",
      " |  from_orm(obj: Any) -> 'Model' from pydantic.main.ModelMetaclass\n",
      " |  \n",
      " |  parse_file(path: Union[str, pathlib.Path], *, content_type: 'unicode' = None, encoding: 'unicode' = 'utf8', proto: pydantic.parse.Protocol = None, allow_pickle: bool = False) -> 'Model' from pydantic.main.ModelMetaclass\n",
      " |  \n",
      " |  parse_obj(obj: Any) -> 'Model' from pydantic.main.ModelMetaclass\n",
      " |  \n",
      " |  parse_raw(b: Union[str, bytes], *, content_type: 'unicode' = None, encoding: 'unicode' = 'utf8', proto: pydantic.parse.Protocol = None, allow_pickle: bool = False) -> 'Model' from pydantic.main.ModelMetaclass\n",
      " |  \n",
      " |  schema(by_alias: bool = True, ref_template: 'unicode' = '#/definitions/{model}') -> 'DictStrAny' from pydantic.main.ModelMetaclass\n",
      " |  \n",
      " |  schema_json(*, by_alias: bool = True, ref_template: 'unicode' = '#/definitions/{model}', **dumps_kwargs: Any) -> 'unicode' from pydantic.main.ModelMetaclass\n",
      " |  \n",
      " |  update_forward_refs(**localns: Any) -> None from pydantic.main.ModelMetaclass\n",
      " |      Try to update ForwardRefs on fields based on this Model, globalns and localns.\n",
      " |  \n",
      " |  validate(value: Any) -> 'Model' from pydantic.main.ModelMetaclass\n",
      " |  \n",
      " |  ----------------------------------------------------------------------\n",
      " |  Data descriptors inherited from pydantic.main.BaseModel:\n",
      " |  \n",
      " |  __dict__\n",
      " |      dictionary for instance variables (if defined)\n",
      " |  \n",
      " |  __fields_set__\n",
      " |  \n",
      " |  ----------------------------------------------------------------------\n",
      " |  Methods inherited from pydantic.utils.Representation:\n",
      " |  \n",
      " |  __pretty__(self, fmt: Callable[[Any], Any], **kwargs: Any) -> Generator[Any, NoneType, NoneType]\n",
      " |      Used by devtools (https://python-devtools.helpmanual.io/) to provide a human readable representations of objects\n",
      " |  \n",
      " |  __repr__(self) -> 'unicode'\n",
      " |  \n",
      " |  __repr_name__(self) -> 'unicode'\n",
      " |      Name of the instance's class, used in __repr__.\n",
      " |  \n",
      " |  __repr_str__(self, join_str: 'unicode') -> 'unicode'\n",
      " |  \n",
      " |  __rich_repr__(self) -> 'RichReprResult'\n",
      " |      Get fields for Rich library\n",
      "\n"
     ]
    }
   ],
   "source": [
    "help(OpenAI)"
   ]
  },
  {
   "cell_type": "markdown",
   "id": "9695ccfc",
   "metadata": {},
   "source": [
    "**Generate Text:** The most basic functionality an LLM has is just the ability to call it, passing in a string and getting back a string."
   ]
  },
  {
   "cell_type": "code",
   "execution_count": 3,
   "id": "9d12ac26",
   "metadata": {},
   "outputs": [
    {
     "data": {
      "text/plain": [
       "'\\n\\nWhy did the chicken cross the road?\\n\\nTo get to the other side!'"
      ]
     },
     "execution_count": 3,
     "metadata": {},
     "output_type": "execute_result"
    }
   ],
   "source": [
    "llm(\"Tell me a joke\")"
   ]
  },
  {
   "cell_type": "markdown",
   "id": "e7d4d42d",
   "metadata": {},
   "source": [
    "**Generate:** More broadly, you can call it with a list of inputs, getting back a more complete response than just the text. This complete response includes things like multiple top responses, as well as LLM provider specific information"
   ]
  },
  {
   "cell_type": "code",
   "execution_count": 4,
   "id": "f4dc241a",
   "metadata": {},
   "outputs": [],
   "source": [
    "llm_result = llm.generate([\"Tell me a joke\", \"Tell me a poem\"]*15)"
   ]
  },
  {
   "cell_type": "code",
   "execution_count": 5,
   "id": "740392f6",
   "metadata": {},
   "outputs": [
    {
     "data": {
      "text/plain": [
       "30"
      ]
     },
     "execution_count": 5,
     "metadata": {},
     "output_type": "execute_result"
    }
   ],
   "source": [
    "len(llm_result.generations)"
   ]
  },
  {
   "cell_type": "code",
   "execution_count": 6,
   "id": "ab6cdcf1",
   "metadata": {},
   "outputs": [
    {
     "data": {
      "text/plain": [
       "[Generation(text='\\n\\nWhy did the chicken cross the road?\\n\\nTo get to the other side!'),\n",
       " Generation(text='\\n\\nWhy did the chicken cross the road?\\n\\nTo get to the other side.')]"
      ]
     },
     "execution_count": 6,
     "metadata": {},
     "output_type": "execute_result"
    }
   ],
   "source": [
    "llm_result.generations[0]"
   ]
  },
  {
   "cell_type": "code",
   "execution_count": 7,
   "id": "4946a778",
   "metadata": {},
   "outputs": [
    {
     "data": {
      "text/plain": [
       "[Generation(text=\"\\n\\nWhat if love neverspeech\\n\\nWhat if love never ended\\n\\nWhat if love was only a feeling\\n\\nI'll never know this love\\n\\nIt's not a feeling\\n\\nBut it's what we have for each other\\n\\nWe just know that love is something strong\\n\\nAnd we can't help but be happy\\n\\nWe just feel what love is for us\\n\\nAnd we love each other with all our heart\\n\\nWe just don't know how\\n\\nHow it will go\\n\\nBut we know that love is something strong\\n\\nAnd we'll always have each other\\n\\nIn our lives.\"),\n",
       " Generation(text='\\n\\nOnce upon a time\\n\\nThere was a love so pure and true\\n\\nIt lasted for centuries\\n\\nAnd never became stale or dry\\n\\nIt was moving and alive\\n\\nAnd the heart of the love-ick\\n\\nIs still beating strong and true.')]"
      ]
     },
     "execution_count": 7,
     "metadata": {},
     "output_type": "execute_result"
    }
   ],
   "source": [
    "llm_result.generations[-1]"
   ]
  },
  {
   "cell_type": "markdown",
   "id": "9efae834",
   "metadata": {},
   "source": [
    "You can also access provider specific information that is returned. This information is NOT standardized across providers."
   ]
  },
  {
   "cell_type": "code",
   "execution_count": 8,
   "id": "242e4527",
   "metadata": {},
   "outputs": [
    {
     "data": {
      "text/plain": [
       "{'token_usage': {'completion_tokens': 3903,\n",
       "  'total_tokens': 4023,\n",
       "  'prompt_tokens': 120}}"
      ]
     },
     "execution_count": 8,
     "metadata": {},
     "output_type": "execute_result"
    }
   ],
   "source": [
    "llm_result.llm_output"
   ]
  },
  {
   "cell_type": "markdown",
   "id": "bde8e04f",
   "metadata": {},
   "source": [
    "**Number of Tokens:** You can also estimate how many tokens a piece of text will be in that model. This is useful because models have a context length (and cost more for more tokens), which means you need to be aware of how long the text you are passing in is.\n",
    "\n",
    "Notice that by default the tokens are estimated using a HuggingFace tokenizer."
   ]
  },
  {
   "cell_type": "code",
   "execution_count": 9,
   "id": "b623c774",
   "metadata": {},
   "outputs": [
    {
     "data": {
      "text/plain": [
       "3"
      ]
     },
     "execution_count": 9,
     "metadata": {},
     "output_type": "execute_result"
    }
   ],
   "source": [
    "llm.get_num_tokens(\"what a joke\")"
   ]
  }
 ],
 "metadata": {
  "kernelspec": {
   "display_name": "Python 3 (ipykernel)",
   "language": "python",
   "name": "python3"
  },
  "language_info": {
   "codemirror_mode": {
    "name": "ipython",
    "version": 3
   },
   "file_extension": ".py",
   "mimetype": "text/x-python",
   "name": "python",
   "nbconvert_exporter": "python",
   "pygments_lexer": "ipython3",
   "version": "3.10.10"
  },
  "vscode": {
   "interpreter": {
    "hash": "1235b9b19e8e9828b5c1fdb2cd89fe8d3de0fcde5ef5f3db36e4b671adb8660f"
   }
  }
 },
 "nbformat": 4,
 "nbformat_minor": 5
}
